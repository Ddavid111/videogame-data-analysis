{
 "cells": [
  {
   "cell_type": "code",
   "execution_count": 7,
   "id": "e0033b9d-d5ca-4af8-a1ec-ecf36f7b4137",
   "metadata": {},
   "outputs": [],
   "source": [
    "import pandas as pd\n",
    "import numpy as np\n",
    "import os\n",
    "import csv\n",
    "import matplotlib.pyplot as plt\n",
    "import seaborn as sns\n",
    "from itertools import combinations\n",
    "from fuzzywuzzy import fuzz\n",
    "\n",
    "# ======== SEGÉDFÜGGVÉNYEK ========\n",
    "def log(msg):\n",
    "    print(msg)\n",
    "\n",
    "def load_csv_safely(path):\n",
    "    try:\n",
    "        return pd.read_csv(path, encoding='utf-8', on_bad_lines='skip', low_memory=False)\n",
    "    except Exception:\n",
    "        return pd.DataFrame()\n",
    "\n",
    "def clean_columns(df):\n",
    "    df.columns = [c.strip().lower().replace(\" \", \"_\") for c in df.columns]\n",
    "    return df\n",
    "\n",
    "def fuzzy_match(name, choices, threshold=90):\n",
    "    for choice in choices:\n",
    "        if fuzz.ratio(str(name), str(choice)) >= threshold:\n",
    "            return choice\n",
    "    return None\n"
   ]
  },
  {
   "cell_type": "code",
   "execution_count": 8,
   "id": "83da6b72-8d4c-488e-ad57-ed0e00dfba70",
   "metadata": {},
   "outputs": [
    {
     "name": "stdout",
     "output_type": "stream",
     "text": [
      "=== Adatok beolvasása kezdődik ===\n"
     ]
    }
   ],
   "source": [
    "# ======== ÚTVONALAK ========\n",
    "A_PATH = r\"C:\\Users\\zalma\\A\"\n",
    "B_PATH = r\"C:\\Users\\zalma\\B\"\n",
    "C_PATH = r\"C:\\Users\\zalma\\C\"\n",
    "\n",
    "log(\"=== Adatok beolvasása kezdődik ===\")\n"
   ]
  },
  {
   "cell_type": "code",
   "execution_count": 9,
   "id": "8178b2b8-d2cc-4654-ae8c-29796f6504e1",
   "metadata": {},
   "outputs": [
    {
     "name": "stdout",
     "output_type": "stream",
     "text": [
      "A forrás összevonva: 27075 sor\n"
     ]
    }
   ],
   "source": [
    "try:\n",
    "    steam = load_csv_safely(os.path.join(A_PATH, \"steam.csv\"))\n",
    "    description = load_csv_safely(os.path.join(A_PATH, \"steam_description_data.csv\"))\n",
    "    media = load_csv_safely(os.path.join(A_PATH, \"steam_media_data.csv\"))\n",
    "    support = load_csv_safely(os.path.join(A_PATH, \"steam_support_info.csv\"))\n",
    "    tags = load_csv_safely(os.path.join(A_PATH, \"steamspy_tag_data.csv\"))\n",
    "    reqs = load_csv_safely(os.path.join(A_PATH, \"steam_requirements_data.csv\"))\n",
    "\n",
    "    for df in [steam, description, media, support, tags, reqs]:\n",
    "        if not df.empty:\n",
    "            df = clean_columns(df)\n",
    "            possible_ids = [c for c in df.columns if \"appid\" in c.lower()]\n",
    "            if possible_ids:\n",
    "                df.rename(columns={possible_ids[0]: \"appid\"}, inplace=True)\n",
    "\n",
    "    a_merged = (\n",
    "        steam.merge(description, on=\"appid\", how=\"left\")\n",
    "             .merge(media, on=\"appid\", how=\"left\")\n",
    "             .merge(support, on=\"appid\", how=\"left\")\n",
    "             .merge(tags, on=\"appid\", how=\"left\")\n",
    "             .merge(reqs, on=\"appid\", how=\"left\")\n",
    "    )\n",
    "    log(f\"A forrás összevonva: {len(a_merged)} sor\")\n",
    "except Exception as e:\n",
    "    log(f\"Hiba az A adathalmaz betöltésekor: {e}\")\n",
    "    a_merged = pd.DataFrame()\n"
   ]
  },
  {
   "cell_type": "code",
   "execution_count": 10,
   "id": "70d0af6d-f623-45eb-a5e8-5869641d279d",
   "metadata": {},
   "outputs": [
    {
     "name": "stdout",
     "output_type": "stream",
     "text": [
      "B forrás betöltve: 111452 sor (games.csv)\n"
     ]
    }
   ],
   "source": [
    "try:\n",
    "    file_path = os.path.join(B_PATH, \"games.csv\")\n",
    "    try:\n",
    "        df_b = pd.read_csv(file_path, encoding='utf-8', on_bad_lines='skip', low_memory=False)\n",
    "    except Exception:\n",
    "        data = []\n",
    "        with open(file_path, \"r\", encoding=\"utf-8\") as f:\n",
    "            reader = csv.reader(f)\n",
    "            for row in reader:\n",
    "                data.append(row)\n",
    "        header = data[0]\n",
    "        body = data[1:]\n",
    "        df_b = pd.DataFrame(body, columns=header)\n",
    "\n",
    "    df_b = clean_columns(df_b)\n",
    "    if \"appid\" not in df_b.columns:\n",
    "        df_b.reset_index(inplace=True)\n",
    "        df_b.rename(columns={\"index\": \"appid\"}, inplace=True)\n",
    "    df_b = df_b.loc[:, ~df_b.columns.duplicated()]\n",
    "\n",
    "    if \"discountdlc_count\" in df_b.columns:\n",
    "        new_discount = []\n",
    "        new_dlc_count = []\n",
    "        for val in df_b[\"discountdlc_count\"]:\n",
    "            if pd.isna(val):\n",
    "                new_discount.append(None)\n",
    "                new_dlc_count.append(None)\n",
    "            else:\n",
    "                val = str(val)\n",
    "                parts = val.replace(\"%\", \"% \").split()\n",
    "                if len(parts) == 2:\n",
    "                    new_discount.append(parts[0])\n",
    "                    new_dlc_count.append(parts[1])\n",
    "                elif \"%\" in val:\n",
    "                    new_discount.append(val.split(\"%\")[0] + \"%\")\n",
    "                    new_dlc_count.append(None)\n",
    "                else:\n",
    "                    new_discount.append(None)\n",
    "                    new_dlc_count.append(val)\n",
    "        df_b[\"discount\"] = new_discount\n",
    "        df_b[\"dlc_count\"] = new_dlc_count\n",
    "        df_b.drop(columns=[\"discountdlc_count\"], inplace=True)\n",
    "\n",
    "    df_b[\"appid\"] = df_b[\"appid\"].astype(str)\n",
    "    log(f\"B forrás betöltve: {len(df_b)} sor (games.csv)\")\n",
    "except Exception as e:\n",
    "    log(f\"Hiba a B adathalmaznál: {e}\")\n",
    "    df_b = pd.DataFrame()\n"
   ]
  },
  {
   "cell_type": "code",
   "execution_count": 11,
   "id": "aad3c5af-6b79-470c-bb66-c4982e2ef0b4",
   "metadata": {},
   "outputs": [
    {
     "name": "stdout",
     "output_type": "stream",
     "text": [
      "C forrás betöltve, összesítve: 356018 sor\n"
     ]
    }
   ],
   "source": [
    "try:\n",
    "    c_files = [\n",
    "        \"games_march2025_cleaned.csv\",\n",
    "        \"games_march2025_full.csv\",\n",
    "        \"games_may2024_cleaned.csv\",\n",
    "        \"games_may2024_full.csv\",\n",
    "    ]\n",
    "    c_dfs = [load_csv_safely(os.path.join(C_PATH, f)) for f in c_files]\n",
    "    c_dfs = [clean_columns(df) for df in c_dfs if not df.empty]\n",
    "    df_c = pd.concat(c_dfs, ignore_index=True)\n",
    "    df_c[\"appid\"] = df_c[\"appid\"].astype(str)\n",
    "    log(f\"C forrás betöltve, összesítve: {len(df_c)} sor\")\n",
    "except Exception as e:\n",
    "    log(f\"Hiba a C adathalmaznál: {e}\")\n",
    "    df_c = pd.DataFrame()\n"
   ]
  },
  {
   "cell_type": "code",
   "execution_count": 12,
   "id": "07790ae0-8fd2-4bae-aeb3-6b056643251a",
   "metadata": {},
   "outputs": [
    {
     "name": "stdout",
     "output_type": "stream",
     "text": [
      "A forrás appid-ek normalizálva és duplikátumok törölve\n",
      "B forrás appid-ek normalizálva és duplikátumok törölve\n",
      "C forrás appid-ek normalizálva és duplikátumok törölve\n"
     ]
    }
   ],
   "source": [
    "for df_name, df in [(\"A\", a_merged), (\"B\", df_b), (\"C\", df_c)]:\n",
    "    if not df.empty:\n",
    "        df[\"appid\"] = df[\"appid\"].astype(str).str.strip()\n",
    "        df.drop_duplicates(subset=\"appid\", inplace=True)\n",
    "        log(f\"{df_name} forrás appid-ek normalizálva és duplikátumok törölve\")\n",
    "\n",
    "datasets = {\"A\": a_merged, \"B\": df_b, \"C\": df_c}\n"
   ]
  },
  {
   "cell_type": "code",
   "execution_count": 13,
   "id": "7e883508-11c6-410a-b001-c978f7e07b47",
   "metadata": {},
   "outputs": [
    {
     "name": "stdout",
     "output_type": "stream",
     "text": [
      "\n",
      "--- A ---\n",
      "Sorok: 27075, Oszlopok: 404, Memória: 370.42 MB\n",
      "Hiányzó értékek:\n",
      "appid                     0\n",
      "name                      0\n",
      "release_date              0\n",
      "english                   0\n",
      "developer                 1\n",
      "                      ...  \n",
      "pc_requirements          13\n",
      "mac_requirements         13\n",
      "linux_requirements       13\n",
      "minimum                  18\n",
      "recommended           13057\n",
      "Length: 404, dtype: int64\n",
      "\n",
      "\n",
      "--- B ---\n",
      "Sorok: 110326, Oszlopok: 40, Memória: 484.80 MB\n",
      "Hiányzó értékek:\n",
      "appid                              0\n",
      "name                               0\n",
      "release_date                       0\n",
      "estimated_owners                   0\n",
      "peak_ccu                           0\n",
      "required_age                       0\n",
      "price                              0\n",
      "about_the_game                  6460\n",
      "supported_languages                0\n",
      "full_audio_languages               0\n",
      "reviews                        99780\n",
      "header_image                       0\n",
      "website                        64264\n",
      "support_url                    60028\n",
      "support_email                  18809\n",
      "windows                            0\n",
      "mac                                0\n",
      "linux                              0\n",
      "metacritic_score                   0\n",
      "metacritic_url                106405\n",
      "user_score                         0\n",
      "positive                           0\n",
      "negative                           0\n",
      "score_rank                    110282\n",
      "achievements                       0\n",
      "recommendations                    0\n",
      "notes                          92075\n",
      "average_playtime_forever           0\n",
      "average_playtime_two_weeks         0\n",
      "median_playtime_forever            0\n",
      "median_playtime_two_weeks          0\n",
      "developers                      6452\n",
      "publishers                      6748\n",
      "categories                      7543\n",
      "genres                          6423\n",
      "tags                           36950\n",
      "screenshots                     4174\n",
      "movies                          9528\n",
      "discount                      110326\n",
      "dlc_count                          0\n",
      "dtype: int64\n",
      "\n",
      "\n",
      "--- C ---\n",
      "Sorok: 104490, Oszlopok: 47, Memória: 738.43 MB\n",
      "Hiányzó értékek:\n",
      "appid                            0\n",
      "name                             3\n",
      "release_date                     0\n",
      "required_age                     0\n",
      "price                            0\n",
      "dlc_count                        0\n",
      "detailed_description          6007\n",
      "about_the_game                6030\n",
      "short_description             5927\n",
      "reviews                      93294\n",
      "header_image                     0\n",
      "website                      59601\n",
      "support_url                  56340\n",
      "support_email                18233\n",
      "windows                          0\n",
      "mac                              0\n",
      "linux                            0\n",
      "metacritic_score                 0\n",
      "metacritic_url              100370\n",
      "achievements                     0\n",
      "recommendations                  0\n",
      "notes                        86136\n",
      "supported_languages              0\n",
      "full_audio_languages             0\n",
      "packages                         0\n",
      "developers                       0\n",
      "publishers                       0\n",
      "categories                       0\n",
      "genres                           0\n",
      "screenshots                      0\n",
      "movies                           0\n",
      "user_score                       0\n",
      "score_rank                  104449\n",
      "positive                         0\n",
      "negative                         0\n",
      "estimated_owners                 0\n",
      "average_playtime_forever         0\n",
      "average_playtime_2weeks          0\n",
      "median_playtime_forever          0\n",
      "median_playtime_2weeks           0\n",
      "discount                      9542\n",
      "peak_ccu                         0\n",
      "tags                             0\n",
      "pct_pos_total                    0\n",
      "num_reviews_total                0\n",
      "pct_pos_recent                   0\n",
      "num_reviews_recent               0\n",
      "dtype: int64\n",
      "\n"
     ]
    }
   ],
   "source": [
    "for name, df in datasets.items():\n",
    "    print(f\"\\n--- {name} ---\")\n",
    "    print(f\"Sorok: {len(df)}, Oszlopok: {df.shape[1]}, Memória: {df.memory_usage(deep=True).sum() / 1024**2:.2f} MB\")\n",
    "    print(f\"Hiányzó értékek:\\n{df.isna().sum()}\\n\")"
   ]
  },
  {
   "cell_type": "code",
   "execution_count": 14,
   "id": "7bc12374-96d9-4ced-ab2c-0781ac48bd72",
   "metadata": {},
   "outputs": [
    {
     "name": "stdout",
     "output_type": "stream",
     "text": [
      "AppID átfedések:\n",
      "A ∩ B: 3\n",
      "A ∩ C: 24441\n",
      "B ∩ C: 3\n",
      "\n",
      "AppID átfedések százalékban:\n",
      "A ∩ B: 3 | 0.0% of A, 0.0% of B\n",
      "A ∩ C: 24441 | 90.3% of A, 23.4% of C\n",
      "B ∩ C: 3 | 0.0% of B, 0.0% of C\n",
      "A ∩ B ∩ C: 3 | 0.0% of A, 0.0% of B, 0.0% of C\n"
     ]
    }
   ],
   "source": [
    "app_sets = {name: set(df['appid']) for name, df in datasets.items() if not df.empty}\n",
    "print(\"AppID átfedések:\")\n",
    "for (name1, set1), (name2, set2) in combinations(app_sets.items(), 2):\n",
    "    overlap = set1 & set2\n",
    "    print(f\"{name1} ∩ {name2}: {len(overlap)}\")\n",
    "\n",
    "print(\"\\nAppID átfedések százalékban:\")\n",
    "for (name1, set1), (name2, set2) in combinations(app_sets.items(), 2):\n",
    "    overlap = set1 & set2\n",
    "    pct1 = len(overlap) / len(set1) * 100 if len(set1) > 0 else 0\n",
    "    pct2 = len(overlap) / len(set2) * 100 if len(set2) > 0 else 0\n",
    "    print(f\"{name1} ∩ {name2}: {len(overlap)} | {pct1:.1f}% of {name1}, {pct2:.1f}% of {name2}\")\n",
    "\n",
    "if len(app_sets) == 3:\n",
    "    all_overlap = set.intersection(*app_sets.values())\n",
    "    pct_a = len(all_overlap) / len(app_sets['A']) * 100\n",
    "    pct_b = len(all_overlap) / len(app_sets['B']) * 100\n",
    "    pct_c = len(all_overlap) / len(app_sets['C']) * 100\n",
    "    print(f\"A ∩ B ∩ C: {len(all_overlap)} | {pct_a:.1f}% of A, {pct_b:.1f}% of B, {pct_c:.1f}% of C\")\n"
   ]
  },
  {
   "cell_type": "code",
   "execution_count": 15,
   "id": "39b4a873-ad5a-4d8d-8a20-830a05c114b9",
   "metadata": {},
   "outputs": [],
   "source": [
    "for df in datasets.values():\n",
    "    if 'genres' in df.columns:\n",
    "        df['num_genres'] = df['genres'].apply(lambda x: len(str(x).split(',')) if pd.notna(x) else 0)\n",
    "\n",
    "for df in datasets.values():\n",
    "    if 'owners' in df.columns and 'estimated_owners' in df.columns:\n",
    "        df['total_owners'] = df[['owners','estimated_owners']].sum(axis=1, skipna=True)\n"
   ]
  },
  {
   "cell_type": "code",
   "execution_count": 16,
   "id": "bc7f77a1-3833-455a-bff4-83ceb8ab84bc",
   "metadata": {},
   "outputs": [
    {
     "name": "stderr",
     "output_type": "stream",
     "text": [
      "C:\\Users\\zalma\\AppData\\Local\\Temp\\ipykernel_15676\\1189453201.py:3: FutureWarning: The behavior of DataFrame concatenation with empty or all-NA entries is deprecated. In a future version, this will no longer exclude empty or all-NA columns when determining the result dtypes. To retain the old behavior, exclude the relevant entries before the concat operation.\n",
      "  merged = pd.concat(datasets.values(), ignore_index=True)\n"
     ]
    },
    {
     "name": "stdout",
     "output_type": "stream",
     "text": [
      "\n",
      "Forrás szerinti rekordszám:\n",
      " source\n",
      "B    110326\n",
      "C    104490\n",
      "A     27075\n",
      "Name: count, dtype: int64\n"
     ]
    }
   ],
   "source": [
    "for name, df in datasets.items():\n",
    "    df['source'] = name\n",
    "merged = pd.concat(datasets.values(), ignore_index=True)\n",
    "source_counts = merged['source'].value_counts()\n",
    "print(\"\\nForrás szerinti rekordszám:\\n\", source_counts)\n"
   ]
  },
  {
   "cell_type": "code",
   "execution_count": 19,
   "id": "d052893a-b4a5-44a9-bf24-339456059508",
   "metadata": {},
   "outputs": [
    {
     "name": "stdout",
     "output_type": "stream",
     "text": [
      "\n",
      "--- developer összesítés ---\n",
      "developer\n",
      "NaN                           214817\n",
      "Choice of Games                   94\n",
      "KOEI TECMO GAMES CO., LTD.        72\n",
      "Ripknot Systems                   62\n",
      "Laush Dmitriy Sergeevich          51\n",
      "Nikita \"Ghost_RUS\"                50\n",
      "Dexion Games                      45\n",
      "RewindApp                         43\n",
      "Hosted Games                      42\n",
      "Blender Games                     40\n",
      "Name: count, dtype: int64\n",
      "\n",
      "--- publisher összesítés ---\n",
      "publisher\n",
      "NaN                    214830\n",
      "Big Fish Games            212\n",
      "Strategy First            136\n",
      "Ubisoft                   111\n",
      "THQ Nordic                 98\n",
      "Square Enix                97\n",
      "Sekai Project              96\n",
      "Choice of Games            94\n",
      "1C Entertainment           88\n",
      "Dagestan Technology        88\n",
      "Name: count, dtype: int64\n"
     ]
    }
   ],
   "source": [
    "for col in ['genre', 'category', 'language', 'developer', 'publisher']:\n",
    "    if col in merged.columns:\n",
    "        print(f\"\\n--- {col} összesítés ---\")\n",
    "        print(merged[col].value_counts(dropna=False).head(10))\n"
   ]
  },
  {
   "cell_type": "code",
   "execution_count": 20,
   "id": "9362a632-22a1-4531-ac54-1a68edddc3c3",
   "metadata": {},
   "outputs": [
    {
     "name": "stdout",
     "output_type": "stream",
     "text": [
      "\n",
      "Hiányzó értékek összesítve:\n",
      " appid                          0\n",
      "name                           3\n",
      "release_date                   0\n",
      "english                   214816\n",
      "developer                 214817\n",
      "                           ...  \n",
      "median_playtime_2weeks    137401\n",
      "pct_pos_total             137401\n",
      "num_reviews_total         137401\n",
      "pct_pos_recent            137401\n",
      "num_reviews_recent        137401\n",
      "Length: 438, dtype: int64\n"
     ]
    }
   ],
   "source": [
    "nan_summary = merged.isna().sum()\n",
    "print(\"\\nHiányzó értékek összesítve:\\n\", nan_summary)\n"
   ]
  },
  {
   "cell_type": "code",
   "execution_count": 21,
   "id": "06246bce-cd39-47ea-8768-f2bfa98c1856",
   "metadata": {},
   "outputs": [
    {
     "name": "stdout",
     "output_type": "stream",
     "text": [
      "\n",
      "--- developer összesítés ---\n",
      "developer\n",
      "NaN                           214817\n",
      "Choice of Games                   94\n",
      "KOEI TECMO GAMES CO., LTD.        72\n",
      "Ripknot Systems                   62\n",
      "Laush Dmitriy Sergeevich          51\n",
      "Nikita \"Ghost_RUS\"                50\n",
      "Dexion Games                      45\n",
      "RewindApp                         43\n",
      "Hosted Games                      42\n",
      "Blender Games                     40\n",
      "Name: count, dtype: int64\n",
      "\n",
      "--- publisher összesítés ---\n",
      "publisher\n",
      "NaN                    214830\n",
      "Big Fish Games            212\n",
      "Strategy First            136\n",
      "Ubisoft                   111\n",
      "THQ Nordic                 98\n",
      "Square Enix                97\n",
      "Sekai Project              96\n",
      "Choice of Games            94\n",
      "1C Entertainment           88\n",
      "Dagestan Technology        88\n",
      "Name: count, dtype: int64\n"
     ]
    }
   ],
   "source": [
    "for col in ['genre', 'category', 'language', 'developer', 'publisher']:\n",
    "    if col in merged.columns:\n",
    "        print(f\"\\n--- {col} összesítés ---\")\n",
    "        print(merged[col].value_counts(dropna=False).head(10))\n"
   ]
  }
 ],
 "metadata": {
  "kernelspec": {
   "display_name": "Python 3 (ipykernel)",
   "language": "python",
   "name": "python3"
  },
  "language_info": {
   "codemirror_mode": {
    "name": "ipython",
    "version": 3
   },
   "file_extension": ".py",
   "mimetype": "text/x-python",
   "name": "python",
   "nbconvert_exporter": "python",
   "pygments_lexer": "ipython3",
   "version": "3.14.0"
  }
 },
 "nbformat": 4,
 "nbformat_minor": 5
}
